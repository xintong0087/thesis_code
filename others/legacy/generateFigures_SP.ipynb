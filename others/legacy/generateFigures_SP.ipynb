{
 "cells": [
  {
   "cell_type": "code",
   "execution_count": 1,
   "id": "6dff8423",
   "metadata": {},
   "outputs": [],
   "source": [
    "import numpy as np\n",
    "import pandas as pd\n",
    "import tensorflow as tf\n",
    "\n",
    "import matplotlib.pyplot as plt\n",
    "\n",
    "import os\n",
    "import joblib\n",
    "\n",
    "import preprocess, fit_nn, evaluate\n",
    "\n",
    "def generate_basis(X):\n",
    "\n",
    "    X_sq = X ** 2\n",
    "\n",
    "    return np.concatenate([X, X_sq], axis=1)\n",
    "\n",
    "def cal_Matches(filename, loss_true):\n",
    "    \n",
    "    loss = np.load(filename)\n",
    "    \n",
    "    start = 2500\n",
    "    end = start * 4 + 1\n",
    "    step = 500\n",
    "    \n",
    "    percent = evaluate.tail_scenarios(loss_true, loss, start=start, end=end, step=step)\n",
    "    df = pd.Series(percent)\n",
    "\n",
    "    return df\n",
    "                          \n",
    "VA_type = \"GMWB\"\n",
    "lapse_type = \"dlapse\"\n",
    "\n",
    "cwd = f\"../sim_VA/result/{VA_type}/{lapse_type}/\"\n",
    "save_path = f\"./trainedModels/{VA_type}_PY/{lapse_type}/\"\n",
    "\n",
    "if not os.path.exists(save_path):\n",
    "    os.makedirs(save_path)\n",
    "\n",
    "price = np.load(cwd + f\"outerScenarios_{VA_type}_RS_{lapse_type}.npy\")\n",
    "rtn = (price[:, 1:] - price[:, :-1]) / price[:, :-1]\n",
    "loss_T = np.load(cwd + f\"hedgingLoss_{VA_type}_RS_10000_{lapse_type}.npy\")\n",
    "\n",
    "substring_SNS = f\"hedgingLoss_{VA_type}_RS_1000_{lapse_type}\"\n",
    "\n",
    "substring_lowNoise = f\"hedgingLoss_{VA_type}_RS_100_{lapse_type}\"\n",
    "substring_mediumNoise = f\"hedgingLoss_{VA_type}_RS_010_{lapse_type}\"\n",
    "substring_highNoise = f\"hedgingLoss_{VA_type}_RS_001_{lapse_type}\"\n",
    "\n",
    "lossFiles_SNS = [file for file in os.listdir(cwd) if substring_SNS in file and os.path.isfile(os.path.join(cwd, file))]\n",
    "\n",
    "lossFiles_lowNoise = [file for file in os.listdir(cwd) if substring_lowNoise in file and os.path.isfile(os.path.join(cwd, file))]\n",
    "lossFiles_mediumNoise = [file for file in os.listdir(cwd) if substring_mediumNoise in file and os.path.isfile(os.path.join(cwd, file))]\n",
    "lossFiles_highNoise = [file for file in os.listdir(cwd) if substring_highNoise in file and os.path.isfile(os.path.join(cwd, file))]\n",
    "\n",
    "n_rep = 50\n",
    "test_size = 3000\n",
    "seed = 22\n",
    "\n",
    "alpha = 0.05\n"
   ]
  },
  {
   "cell_type": "code",
   "execution_count": 2,
   "id": "86b1444b",
   "metadata": {},
   "outputs": [
    {
     "data": {
      "text/plain": [
       "0.00    0.9756\n",
       "0.01    0.9996\n",
       "0.02    1.0000\n",
       "0.03    1.0000\n",
       "0.04    1.0000\n",
       "0.05    1.0000\n",
       "0.06    1.0000\n",
       "0.07    1.0000\n",
       "0.08    1.0000\n",
       "0.09    1.0000\n",
       "0.10    1.0000\n",
       "0.11    1.0000\n",
       "0.12    1.0000\n",
       "0.13    1.0000\n",
       "0.14    1.0000\n",
       "0.15    1.0000\n",
       "dtype: float64"
      ]
     },
     "execution_count": 2,
     "metadata": {},
     "output_type": "execute_result"
    }
   ],
   "source": [
    "cal_Matches(cwd + lossFiles_lowNoise[0], loss_T)"
   ]
  },
  {
   "cell_type": "code",
   "execution_count": null,
   "id": "547a6708",
   "metadata": {},
   "outputs": [],
   "source": []
  }
 ],
 "metadata": {
  "kernelspec": {
   "display_name": "Python 3 (ipykernel)",
   "language": "python",
   "name": "python3"
  },
  "language_info": {
   "codemirror_mode": {
    "name": "ipython",
    "version": 3
   },
   "file_extension": ".py",
   "mimetype": "text/x-python",
   "name": "python",
   "nbconvert_exporter": "python",
   "pygments_lexer": "ipython3",
   "version": "3.10.9"
  }
 },
 "nbformat": 4,
 "nbformat_minor": 5
}

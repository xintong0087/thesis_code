{
 "cells": [
  {
   "cell_type": "code",
   "execution_count": 1,
   "id": "ded0495a",
   "metadata": {},
   "outputs": [],
   "source": [
    "import numpy as np\n",
    "import pandas as pd\n",
    "\n",
    "import matplotlib.pyplot as plt\n",
    "\n",
    "import os\n",
    "\n",
    "import preprocess, fit_nn, evaluate\n",
    "\n",
    "VA_type = \"GMWB\"\n",
    "lapse_type = \"nolapse\"\n",
    "\n",
    "cwd = f\"../sim_VA/result/{VA_type}/{lapse_type}/\"\n",
    "save_path = f\"./trainedModels/{VA_type}_PY/{lapse_type}/\"\n",
    "\n",
    "if not os.path.exists(save_path):\n",
    "    os.makedirs(save_path)\n",
    "\n",
    "price = np.load(cwd + f\"outerScenarios_{VA_type}_RS_{lapse_type}.npy\")\n",
    "rtn = (price[:, 1:] - price[:, :-1]) / price[:, :-1]\n",
    "\n",
    "substring_SNS = f\"hedgingLoss_{VA_type}_RS_1000_{lapse_type}\"\n",
    "\n",
    "substring_lowNoise = f\"hedgingLoss_{VA_type}_RS_100_{lapse_type}\"\n",
    "substring_mediumNoise = f\"hedgingLoss_{VA_type}_RS_10_{lapse_type}\"\n",
    "substring_highNoise = f\"hedgingLoss_{VA_type}_RS_1_{lapse_type}\"\n",
    "\n",
    "lossFiles_lowNoise = [file for file in os.listdir(cwd) if substring_lowNoise in file and os.path.isfile(os.path.join(cwd, file))]\n",
    "lossFiles_mediumNoise = [file for file in os.listdir(cwd) if substring_mediumNoise in file and os.path.isfile(os.path.join(cwd, file))]\n",
    "lossFiles_highNoise = [file for file in os.listdir(cwd) if substring_highNoise in file and os.path.isfile(os.path.join(cwd, file))]\n",
    "\n",
    "n_rep = 50\n",
    "test_size = 3000\n",
    "seed = 22"
   ]
  },
  {
   "cell_type": "code",
   "execution_count": null,
   "id": "d61a5152",
   "metadata": {},
   "outputs": [],
   "source": [
    "for n in range(n_rep):\n",
    "    \n",
    "    loss_LN = np.load(cwd + lossFiles_lowNoise[rep])\n",
    "    \n",
    "    X_train, y_train, X_test, y_test, y_mean, y_std = preprocess.transform_data(rtn, np.load(cwd + loss_file), True, test_size, seed, model=\"RNN\")\n",
    "    \n",
    "    "
   ]
  }
 ],
 "metadata": {
  "kernelspec": {
   "display_name": "Python 3 (ipykernel)",
   "language": "python",
   "name": "python3"
  },
  "language_info": {
   "codemirror_mode": {
    "name": "ipython",
    "version": 3
   },
   "file_extension": ".py",
   "mimetype": "text/x-python",
   "name": "python",
   "nbconvert_exporter": "python",
   "pygments_lexer": "ipython3",
   "version": "3.10.9"
  }
 },
 "nbformat": 4,
 "nbformat_minor": 5
}

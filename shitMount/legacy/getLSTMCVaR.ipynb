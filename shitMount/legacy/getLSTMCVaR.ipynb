{
 "cells": [
  {
   "cell_type": "code",
   "execution_count": 1,
   "metadata": {},
   "outputs": [],
   "source": [
    "import numpy as np\n",
    "import pandas as pd\n",
    "import tensorflow as tf\n",
    "\n",
    "import matplotlib.pyplot as plt\n",
    "\n",
    "import os\n",
    "import joblib\n",
    "\n",
    "import preprocess, fit_nn, evaluate"
   ]
  },
  {
   "cell_type": "code",
   "execution_count": null,
   "metadata": {},
   "outputs": [],
   "source": [
    "VA_type = \"GMWB\"\n",
    "lapse_type = \"nolapse\"\n",
    "\n",
    "cwd = f\"../sim_VA/result/{VA_type}/{lapse_type}/\"\n",
    "save_path = f\"./trainedModels/{VA_type}_PY/{lapse_type}/\"\n",
    "\n",
    "model_name = \"LSTM_LoCap_LowNoise\"\n",
    "\n",
    "n_rep = 100 \n",
    "\n",
    "file_list = [save_path + f\"{model_name}_{n}\" for n in range(n_rep)]\n",
    "\n",
    "for file in file_list:\n",
    "\n",
    "    print(np.load(file + \"_loss.npy\"))"
   ]
  }
 ],
 "metadata": {
  "kernelspec": {
   "display_name": "Python 3",
   "language": "python",
   "name": "python3"
  },
  "language_info": {
   "codemirror_mode": {
    "name": "ipython",
    "version": 3
   },
   "file_extension": ".py",
   "mimetype": "text/x-python",
   "name": "python",
   "nbconvert_exporter": "python",
   "pygments_lexer": "ipython3",
   "version": "3.10.6"
  }
 },
 "nbformat": 4,
 "nbformat_minor": 2
}

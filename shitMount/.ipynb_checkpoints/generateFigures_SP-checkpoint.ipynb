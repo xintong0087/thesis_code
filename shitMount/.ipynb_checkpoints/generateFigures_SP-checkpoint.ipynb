{
 "cells": [
  {
   "cell_type": "code",
   "execution_count": 1,
   "id": "df1fdb5d",
   "metadata": {},
   "outputs": [],
   "source": [
    "import numpy as np\n",
    "import pandas as pd\n",
    "import tensorflow as tf\n",
    "\n",
    "import matplotlib.pyplot as plt\n",
    "\n",
    "import os\n",
    "import joblib\n",
    "\n",
    "import preprocess, fit_nn, evaluate\n",
    "\n",
    "def generate_basis(X):\n",
    "\n",
    "    X_sq = X ** 2\n",
    "\n",
    "    return np.concatenate([X, X_sq], axis=1)\n",
    "\n",
    "def load_y(filename, loss_true):\n",
    "    \n",
    "    loss = np.load(filename)\n",
    "    \n",
    "    start = 2500\n",
    "    end = start * 4\n",
    "    step = 500\n",
    "    \n",
    "    percent = evaluate.tail_scenarios(loss_true, loss, start=start, end=end, step=step)\n",
    "    df = pd.Series(percent)\n",
    "\n",
    "    print(\"Percentage of tail matches for model is:\", df.iloc[0])\n",
    "                          \n",
    "VA_type = \"GMWB\"\n",
    "lapse_type = \"nolapse\"\n",
    "\n",
    "cwd = f\"../sim_VA/result/{VA_type}/{lapse_type}/\"\n",
    "save_path = f\"./trainedModels/{VA_type}_PY/{lapse_type}/\"\n",
    "\n",
    "if not os.path.exists(save_path):\n",
    "    os.makedirs(save_path)\n",
    "\n",
    "price = np.load(cwd + f\"outerScenarios_{VA_type}_RS_{lapse_type}.npy\")\n",
    "rtn = (price[:, 1:] - price[:, :-1]) / price[:, :-1]\n",
    "loss_T = np.load(cwd + f\"hedgingLoss_{VA_type}_RS_10000_{lapse_type}.npy\")\n",
    "\n",
    "substring_SNS = f\"hedgingLoss_{VA_type}_RS_1000_{lapse_type}\"\n",
    "\n",
    "substring_lowNoise = f\"hedgingLoss_{VA_type}_RS_100_{lapse_type}\"\n",
    "substring_mediumNoise = f\"hedgingLoss_{VA_type}_RS_010_{lapse_type}\"\n",
    "substring_highNoise = f\"hedgingLoss_{VA_type}_RS_001_{lapse_type}\"\n",
    "\n",
    "lossFiles_SNS = [file for file in os.listdir(cwd) if substring_SNS in file and os.path.isfile(os.path.join(cwd, file))]\n",
    "\n",
    "lossFiles_lowNoise = [file for file in os.listdir(cwd) if substring_lowNoise in file and os.path.isfile(os.path.join(cwd, file))]\n",
    "lossFiles_mediumNoise = [file for file in os.listdir(cwd) if substring_mediumNoise in file and os.path.isfile(os.path.join(cwd, file))]\n",
    "lossFiles_highNoise = [file for file in os.listdir(cwd) if substring_highNoise in file and os.path.isfile(os.path.join(cwd, file))]\n",
    "\n",
    "n_rep = 50\n",
    "test_size = 3000\n",
    "seed = 22\n",
    "\n",
    "alpha = 0.05\n"
   ]
  },
  {
   "cell_type": "code",
   "execution_count": 4,
   "id": "f48a54e9",
   "metadata": {},
   "outputs": [
    {
     "ename": "NameError",
     "evalue": "name 'model_name' is not defined",
     "output_type": "error",
     "traceback": [
      "\u001b[1;31m---------------------------------------------------------------------------\u001b[0m",
      "\u001b[1;31mNameError\u001b[0m                                 Traceback (most recent call last)",
      "Cell \u001b[1;32mIn[4], line 1\u001b[0m\n\u001b[1;32m----> 1\u001b[0m \u001b[43mload_y\u001b[49m\u001b[43m(\u001b[49m\u001b[43mcwd\u001b[49m\u001b[43m \u001b[49m\u001b[38;5;241;43m+\u001b[39;49m\u001b[43m \u001b[49m\u001b[43mlossFiles_lowNoise\u001b[49m\u001b[43m[\u001b[49m\u001b[38;5;241;43m0\u001b[39;49m\u001b[43m]\u001b[49m\u001b[43m,\u001b[49m\u001b[43m \u001b[49m\u001b[43mloss_T\u001b[49m\u001b[43m)\u001b[49m\n",
      "Cell \u001b[1;32mIn[1], line 29\u001b[0m, in \u001b[0;36mload_y\u001b[1;34m(filename, loss_true)\u001b[0m\n\u001b[0;32m     26\u001b[0m percent \u001b[38;5;241m=\u001b[39m evaluate\u001b[38;5;241m.\u001b[39mtail_scenarios(loss_true, loss, start\u001b[38;5;241m=\u001b[39mstart, end\u001b[38;5;241m=\u001b[39mend, step\u001b[38;5;241m=\u001b[39mstep)\n\u001b[0;32m     27\u001b[0m df \u001b[38;5;241m=\u001b[39m pd\u001b[38;5;241m.\u001b[39mSeries(percent)\n\u001b[1;32m---> 29\u001b[0m \u001b[38;5;28mprint\u001b[39m(\u001b[38;5;124m\"\u001b[39m\u001b[38;5;124mPercentage of tail matches for model:\u001b[39m\u001b[38;5;124m\"\u001b[39m, \u001b[43mmodel_name\u001b[49m, \u001b[38;5;124m\"\u001b[39m\u001b[38;5;124mis\u001b[39m\u001b[38;5;124m\"\u001b[39m, df\u001b[38;5;241m.\u001b[39miloc[\u001b[38;5;241m0\u001b[39m])\n",
      "\u001b[1;31mNameError\u001b[0m: name 'model_name' is not defined"
     ]
    }
   ],
   "source": [
    "load_y(cwd + lossFiles_lowNoise[0], loss_T)"
   ]
  }
 ],
 "metadata": {
  "kernelspec": {
   "display_name": "Python 3 (ipykernel)",
   "language": "python",
   "name": "python3"
  },
  "language_info": {
   "codemirror_mode": {
    "name": "ipython",
    "version": 3
   },
   "file_extension": ".py",
   "mimetype": "text/x-python",
   "name": "python",
   "nbconvert_exporter": "python",
   "pygments_lexer": "ipython3",
   "version": "3.10.9"
  }
 },
 "nbformat": 4,
 "nbformat_minor": 5
}
